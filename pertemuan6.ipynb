{
 "cells": [
  {
   "cell_type": "code",
   "execution_count": 1,
   "id": "18646559-6120-4c7a-b9df-7663a18b56d5",
   "metadata": {},
   "outputs": [
    {
     "name": "stdout",
     "output_type": "stream",
     "text": [
      "(28, 5) (6, 5) (6, 5)\n"
     ]
    }
   ],
   "source": [
    "import pandas as pd\n",
    "from sklearn.model_selection import train_test_split\n",
    "\n",
    "df = pd.read_csv(\"processed_kelulusan.csv\")\n",
    "X = df.drop(\"Lulus\", axis=1)\n",
    "y = df[\"Lulus\"]\n",
    "\n",
    "# split: 70/15/15\n",
    "X_train, X_temp, y_train, y_temp = train_test_split(\n",
    "    X, y, test_size=0.30, stratify=y, random_state=42\n",
    ")\n",
    "X_val, X_test, y_val, y_test = train_test_split(\n",
    "    X_temp, y_temp, test_size=0.50, stratify=y_temp, random_state=42\n",
    ")\n",
    "print(X_train.shape, X_val.shape, X_test.shape)"
   ]
  },
  {
   "cell_type": "code",
   "execution_count": 2,
   "id": "85884a5a-d459-45af-8ecf-2c7375a44d6b",
   "metadata": {},
   "outputs": [
    {
     "name": "stdout",
     "output_type": "stream",
     "text": [
      "Baseline RF — F1(val): 1.0\n",
      "              precision    recall  f1-score   support\n",
      "\n",
      "           0      1.000     1.000     1.000         3\n",
      "           1      1.000     1.000     1.000         3\n",
      "\n",
      "    accuracy                          1.000         6\n",
      "   macro avg      1.000     1.000     1.000         6\n",
      "weighted avg      1.000     1.000     1.000         6\n",
      "\n"
     ]
    }
   ],
   "source": [
    "from sklearn.pipeline import Pipeline\n",
    "from sklearn.compose import ColumnTransformer\n",
    "from sklearn.preprocessing import StandardScaler\n",
    "from sklearn.impute import SimpleImputer\n",
    "from sklearn.ensemble import RandomForestClassifier\n",
    "from sklearn.metrics import f1_score, classification_report\n",
    "\n",
    "num_cols = X_train.select_dtypes(include=\"number\").columns\n",
    "\n",
    "pre = ColumnTransformer([\n",
    "    (\"num\", Pipeline([(\"imp\", SimpleImputer(strategy=\"median\")),\n",
    "                      (\"sc\", StandardScaler())]), num_cols),\n",
    "], remainder=\"drop\")\n",
    "\n",
    "rf = RandomForestClassifier(\n",
    "    n_estimators=300, max_features=\"sqrt\",\n",
    "    class_weight=\"balanced\", random_state=42\n",
    ")\n",
    "\n",
    "pipe = Pipeline([(\"pre\", pre), (\"clf\", rf)])\n",
    "pipe.fit(X_train, y_train)\n",
    "\n",
    "y_val_pred = pipe.predict(X_val)\n",
    "print(\"Baseline RF — F1(val):\", f1_score(y_val, y_val_pred, average=\"macro\"))\n",
    "print(classification_report(y_val, y_val_pred, digits=3))"
   ]
  },
  {
   "cell_type": "code",
   "execution_count": 3,
   "id": "ee6b9306-d239-46c4-bd55-5c6c39855e7d",
   "metadata": {},
   "outputs": [
    {
     "name": "stdout",
     "output_type": "stream",
     "text": [
      "CV F1-macro (train): 1.0 ± 0.0\n"
     ]
    }
   ],
   "source": [
    "from sklearn.model_selection import StratifiedKFold, cross_val_score\n",
    "\n",
    "skf = StratifiedKFold(n_splits=5, shuffle=True, random_state=42)\n",
    "scores = cross_val_score(pipe, X_train, y_train, cv=skf, scoring=\"f1_macro\", n_jobs=-1)\n",
    "print(\"CV F1-macro (train):\", scores.mean(), \"±\", scores.std())"
   ]
  },
  {
   "cell_type": "code",
   "execution_count": 4,
   "id": "f78fc791-212e-481e-96e1-b2d7a9d074b8",
   "metadata": {},
   "outputs": [
    {
     "name": "stdout",
     "output_type": "stream",
     "text": [
      "Fitting 5 folds for each of 12 candidates, totalling 60 fits\n",
      "Best params: {'clf__max_depth': None, 'clf__min_samples_split': 2}\n",
      "Best RF — F1(val): 1.0\n"
     ]
    }
   ],
   "source": [
    "from sklearn.model_selection import GridSearchCV\n",
    "\n",
    "param = {\n",
    "  \"clf__max_depth\": [None, 12, 20, 30],\n",
    "  \"clf__min_samples_split\": [2, 5, 10]\n",
    "}\n",
    "\n",
    "gs = GridSearchCV(pipe, param_grid=param, cv=skf,\n",
    "                  scoring=\"f1_macro\", n_jobs=-1, verbose=1)\n",
    "gs.fit(X_train, y_train)\n",
    "print(\"Best params:\", gs.best_params_)\n",
    "best_model = gs.best_estimator_\n",
    "y_val_best = best_model.predict(X_val)\n",
    "print(\"Best RF — F1(val):\", f1_score(y_val, y_val_best, average=\"macro\"))"
   ]
  },
  {
   "cell_type": "code",
   "execution_count": 5,
   "id": "9be27201-e8ba-4272-9080-9c8e44032421",
   "metadata": {},
   "outputs": [
    {
     "name": "stdout",
     "output_type": "stream",
     "text": [
      "F1(test): 1.0\n",
      "              precision    recall  f1-score   support\n",
      "\n",
      "           0      1.000     1.000     1.000         3\n",
      "           1      1.000     1.000     1.000         3\n",
      "\n",
      "    accuracy                          1.000         6\n",
      "   macro avg      1.000     1.000     1.000         6\n",
      "weighted avg      1.000     1.000     1.000         6\n",
      "\n",
      "Confusion Matrix (test):\n",
      "[[3 0]\n",
      " [0 3]]\n",
      "ROC-AUC(test): 1.0\n"
     ]
    },
    {
     "data": {
      "image/png": "[encoded data removed]",
      "text/plain": [
       "<Figure size 640x480 with 1 Axes>"
      ]
     },
     "metadata": {},
     "output_type": "display_data"
    },
    {
     "data": {
      "image/png": "[encoded data removed]",
      "text/plain": [
       "<Figure size 640x480 with 1 Axes>"
      ]
     },
     "metadata": {},
     "output_type": "display_data"
    }
   ],
   "source": [
    "from sklearn.metrics import confusion_matrix, roc_auc_score, roc_curve, precision_recall_curve\n",
    "import matplotlib.pyplot as plt\n",
    "\n",
    "final_model = best_model  # pilih terbaik; jika baseline lebih baik, gunakan pipe\n",
    "\n",
    "y_test_pred = final_model.predict(X_test)\n",
    "print(\"F1(test):\", f1_score(y_test, y_test_pred, average=\"macro\"))\n",
    "print(classification_report(y_test, y_test_pred, digits=3))\n",
    "print(\"Confusion Matrix (test):\")\n",
    "print(confusion_matrix(y_test, y_test_pred))\n",
    "\n",
    "# ROC-AUC (bila ada predict_proba)\n",
    "if hasattr(final_model, \"predict_proba\"):\n",
    "    y_test_proba = final_model.predict_proba(X_test)[:,1]\n",
    "    try:\n",
    "        print(\"ROC-AUC(test):\", roc_auc_score(y_test, y_test_proba))\n",
    "    except:\n",
    "        pass\n",
    "    fpr, tpr, _ = roc_curve(y_test, y_test_proba)\n",
    "    plt.figure(); plt.plot(fpr, tpr); plt.xlabel(\"FPR\"); plt.ylabel(\"TPR\"); plt.title(\"ROC (test)\")\n",
    "    plt.tight_layout(); plt.savefig(\"roc_test.png\", dpi=120)\n",
    "\n",
    "    prec, rec, _ = precision_recall_curve(y_test, y_test_proba)\n",
    "    plt.figure(); plt.plot(rec, prec); plt.xlabel(\"Recall\"); plt.ylabel(\"Precision\"); plt.title(\"PR Curve (test)\")\n",
    "    plt.tight_layout(); plt.savefig(\"pr_test.png\", dpi=120)"
   ]
  },
  {
   "cell_type": "code",
   "execution_count": 6,
   "id": "50471e6d-929f-4ce9-93f5-ece039cf2c25",
   "metadata": {},
   "outputs": [
    {
     "name": "stdout",
     "output_type": "stream",
     "text": [
      "Top feature importance:\n",
      "num__IPK: 0.2981\n",
      "num__Waktu_Belajar_Jam: 0.2789\n",
      "num__IPK_x_Study: 0.2700\n",
      "num__Rasio_Absensi: 0.0918\n",
      "num__Jumlah_Absensi: 0.0613\n"
     ]
    }
   ],
   "source": [
    "# 6a) Feature importance native (gini)\n",
    "try:\n",
    "    import numpy as np\n",
    "    importances = final_model.named_steps[\"clf\"].feature_importances_\n",
    "    fn = final_model.named_steps[\"pre\"].get_feature_names_out()\n",
    "    top = sorted(zip(fn, importances), key=lambda x: x[1], reverse=True)\n",
    "    print(\"Top feature importance:\")\n",
    "    for name, val in top[:10]:\n",
    "        print(f\"{name}: {val:.4f}\")\n",
    "except Exception as e:\n",
    "    print(\"Feature importance tidak tersedia:\", e)\n",
    "\n",
    "# 6b) (Opsional) Permutation Importance\n",
    "# from sklearn.inspection import permutation_importance\n",
    "# r = permutation_importance(final_model, X_val, y_val, n_repeats=10, random_state=42, n_jobs=-1)\n",
    "# ... (urutkan dan laporkan)"
   ]
  },
  {
   "cell_type": "code",
   "execution_count": 7,
   "id": "064b8cff-45cd-4392-b651-0baaac75b34b",
   "metadata": {},
   "outputs": [
    {
     "name": "stdout",
     "output_type": "stream",
     "text": [
      "Model disimpan sebagai rf_model.pkl\n"
     ]
    }
   ],
   "source": [
    "import joblib\n",
    "joblib.dump(final_model, \"rf_model.pkl\")\n",
    "print(\"Model disimpan sebagai rf_model.pkl\")"
   ]
  },
  {
   "cell_type": "code",
   "execution_count": 8,
   "id": "48b68a44-dfba-45ce-88da-6b9b45e9037c",
   "metadata": {},
   "outputs": [
    {
     "name": "stdout",
     "output_type": "stream",
     "text": [
      "Prediksi: 1\n"
     ]
    }
   ],
   "source": [
    "# Contoh sekali jalan (input fiktif), sesuaikan nama kolom:\n",
    "import pandas as pd, joblib\n",
    "mdl = joblib.load(\"rf_model.pkl\")\n",
    "sample = pd.DataFrame([{\n",
    "  \"IPK\": 3.4,\n",
    "  \"Jumlah_Absensi\": 4,\n",
    "  \"Waktu_Belajar_Jam\": 7,\n",
    "  \"Rasio_Absensi\": 4/14,\n",
    "  \"IPK_x_Study\": 3.4*7\n",
    "}])\n",
    "print(\"Prediksi:\", int(mdl.predict(sample)[0]))"
   ]
  },
  {
   "cell_type": "code",
   "execution_count": 9,
   "id": "2097300a-64f5-4fdd-a158-ee9088a3957a",
   "metadata": {},
   "outputs": [],
   "source": [
    "import pandas as pd\n",
    "import joblib"
   ]
  },
  {
   "cell_type": "code",
   "execution_count": 10,
   "id": "7ea1483f-7e4f-44e3-bc38-70fe83d51155",
   "metadata": {},
   "outputs": [
    {
     "name": "stdout",
     "output_type": "stream",
     "text": [
      "   IPK  Jumlah_Absensi  Waktu_Belajar_Jam  Lulus  Rasio_Absensi  IPK_x_Study\n",
      "0  3.8               3                 10      1       0.214286         38.0\n",
      "1  2.5               8                  5      0       0.571429         12.5\n",
      "2  3.4               4                  7      1       0.285714         23.8\n",
      "3  2.1              12                  2      0       0.857143          4.2\n",
      "4  3.9               2                 12      1       0.142857         46.8\n"
     ]
    }
   ],
   "source": [
    "# baca dataset yang sudah diproses\n",
    "data = pd.read_csv(\"processed_kelulusan.csv\")\n",
    "print(data.head())"
   ]
  },
  {
   "cell_type": "code",
   "execution_count": 11,
   "id": "d863d672-7d95-4239-ba30-71f576d90976",
   "metadata": {},
   "outputs": [
    {
     "name": "stdout",
     "output_type": "stream",
     "text": [
      "Model berhasil dimuat: <class 'sklearn.pipeline.Pipeline'>\n"
     ]
    }
   ],
   "source": [
    "# load model Random Forest yang sudah dilatih\n",
    "rf_model = joblib.load(\"rf_model.pkl\")\n",
    "print(\"Model berhasil dimuat:\", type(rf_model))"
   ]
  },
  {
   "cell_type": "code",
   "execution_count": 12,
   "id": "5164103a-2bfd-41c9-854d-2fa05a7d51e3",
   "metadata": {},
   "outputs": [],
   "source": [
    "# target (label) biasanya 'Lulus'\n",
    "X = data.drop(\"Lulus\", axis=1)\n",
    "y = data[\"Lulus\"]"
   ]
  },
  {
   "cell_type": "code",
   "execution_count": 13,
   "id": "bfc5e18c-cbf6-45ad-b723-229a3fdd4da1",
   "metadata": {},
   "outputs": [
    {
     "name": "stdout",
     "output_type": "stream",
     "text": [
      "Hasil Prediksi (5 data pertama): [1 0 1 0 1]\n"
     ]
    }
   ],
   "source": [
    "y_pred = rf_model.predict(X)\n",
    "\n",
    "print(\"Hasil Prediksi (5 data pertama):\", y_pred[:5])"
   ]
  },
  {
   "cell_type": "code",
   "execution_count": 14,
   "id": "e53da26c-df18-424e-ade8-366cb4643e52",
   "metadata": {},
   "outputs": [
    {
     "name": "stdout",
     "output_type": "stream",
     "text": [
      "Akurasi pada dataset penuh: 1.0\n"
     ]
    }
   ],
   "source": [
    "from sklearn.metrics import accuracy_score\n",
    "\n",
    "acc = accuracy_score(y, y_pred)\n",
    "print(\"Akurasi pada dataset penuh:\", acc)"
   ]
  },
  {
   "cell_type": "code",
   "execution_count": 1,
   "id": "974d1a2e-7dce-4307-ae5c-ed2993e87af7",
   "metadata": {},
   "outputs": [
    {
     "name": "stdout",
     "output_type": "stream",
     "text": [
      "Train: (28, 5) Val: (6, 5) Test: (6, 5)\n"
     ]
    }
   ],
   "source": [
    "# === LANGKAH 0: Import Library ===\n",
    "import pandas as pd\n",
    "import numpy as np\n",
    "import matplotlib.pyplot as plt\n",
    "import seaborn as sns\n",
    "\n",
    "from sklearn.model_selection import train_test_split, StratifiedKFold, cross_val_score, GridSearchCV\n",
    "from sklearn.pipeline import Pipeline\n",
    "from sklearn.compose import ColumnTransformer\n",
    "from sklearn.preprocessing import StandardScaler\n",
    "from sklearn.impute import SimpleImputer\n",
    "from sklearn.tree import DecisionTreeClassifier\n",
    "from sklearn.ensemble import RandomForestClassifier\n",
    "from sklearn.metrics import (\n",
    "    f1_score, precision_score, recall_score, classification_report,\n",
    "    confusion_matrix, roc_auc_score, roc_curve, precision_recall_curve\n",
    ")\n",
    "\n",
    "import joblib\n",
    "\n",
    "# === LANGKAH 1: Muat Data ===\n",
    "df = pd.read_csv(\"processed_kelulusan.csv\")\n",
    "X = df.drop(\"Lulus\", axis=1)\n",
    "y = df[\"Lulus\"]\n",
    "\n",
    "# Split data 70/15/15\n",
    "X_train, X_temp, y_train, y_temp = train_test_split(X, y, test_size=0.30, stratify=y, random_state=42)\n",
    "X_val, X_test, y_val, y_test = train_test_split(X_temp, y_temp, test_size=0.50, stratify=y_temp, random_state=42)\n",
    "\n",
    "print(\"Train:\", X_train.shape, \"Val:\", X_val.shape, \"Test:\", X_test.shape)\n",
    "\n",
    "num_cols = X_train.select_dtypes(include=\"number\").columns\n",
    "\n",
    "# Preprocessing pipeline\n",
    "pre = ColumnTransformer([\n",
    "    (\"num\", Pipeline([(\"imp\", SimpleImputer(strategy=\"median\")),\n",
    "                      (\"sc\", StandardScaler())]), num_cols)\n",
    "], remainder=\"drop\")"
   ]
  },
  {
   "cell_type": "code",
   "execution_count": 2,
   "id": "73ef5388-ec09-4d82-a6e9-324a702b15f3",
   "metadata": {},
   "outputs": [
    {
     "name": "stdout",
     "output_type": "stream",
     "text": [
      "=== BASELINE: Decision Tree ===\n",
      "Precision: 1.0\n",
      "Recall   : 1.0\n",
      "F1       : 1.0\n",
      "              precision    recall  f1-score   support\n",
      "\n",
      "           0      1.000     1.000     1.000         3\n",
      "           1      1.000     1.000     1.000         3\n",
      "\n",
      "    accuracy                          1.000         6\n",
      "   macro avg      1.000     1.000     1.000         6\n",
      "weighted avg      1.000     1.000     1.000         6\n",
      "\n"
     ]
    }
   ],
   "source": [
    "# === LANGKAH 2: Baseline Model (Decision Tree) ===\n",
    "dt = DecisionTreeClassifier(random_state=42)\n",
    "\n",
    "pipe_dt = Pipeline([(\"pre\", pre), (\"clf\", dt)])\n",
    "pipe_dt.fit(X_train, y_train)\n",
    "\n",
    "y_val_pred_dt = pipe_dt.predict(X_val)\n",
    "\n",
    "print(\"=== BASELINE: Decision Tree ===\")\n",
    "print(\"Precision:\", precision_score(y_val, y_val_pred_dt, average=\"macro\"))\n",
    "print(\"Recall   :\", recall_score(y_val, y_val_pred_dt, average=\"macro\"))\n",
    "print(\"F1       :\", f1_score(y_val, y_val_pred_dt, average=\"macro\"))\n",
    "print(classification_report(y_val, y_val_pred_dt, digits=3))\n"
   ]
  },
  {
   "cell_type": "code",
   "execution_count": 3,
   "id": "ad32e93f-9d5a-4693-b39a-51fc4187486d",
   "metadata": {},
   "outputs": [
    {
     "name": "stdout",
     "output_type": "stream",
     "text": [
      "Fitting 5 folds for each of 12 candidates, totalling 60 fits\n",
      "Best Params: {'clf__max_depth': None, 'clf__min_samples_split': 2}\n",
      "\n",
      "=== RANDOM FOREST (Best) ===\n",
      "Precision: 1.0\n",
      "Recall   : 1.0\n",
      "F1       : 1.0\n",
      "              precision    recall  f1-score   support\n",
      "\n",
      "           0      1.000     1.000     1.000         3\n",
      "           1      1.000     1.000     1.000         3\n",
      "\n",
      "    accuracy                          1.000         6\n",
      "   macro avg      1.000     1.000     1.000         6\n",
      "weighted avg      1.000     1.000     1.000         6\n",
      "\n"
     ]
    }
   ],
   "source": [
    "# === LANGKAH 3: Random Forest + GridSearch ===\n",
    "rf = RandomForestClassifier(\n",
    "    n_estimators=300, max_features=\"sqrt\", class_weight=\"balanced\", random_state=42\n",
    ")\n",
    "\n",
    "pipe_rf = Pipeline([(\"pre\", pre), (\"clf\", rf)])\n",
    "\n",
    "param = {\n",
    "    \"clf__max_depth\": [None, 12, 20, 30],\n",
    "    \"clf__min_samples_split\": [2, 5, 10]\n",
    "}\n",
    "\n",
    "skf = StratifiedKFold(n_splits=5, shuffle=True, random_state=42)\n",
    "\n",
    "gs = GridSearchCV(pipe_rf, param_grid=param, cv=skf,\n",
    "                  scoring=\"f1_macro\", n_jobs=-1, verbose=1)\n",
    "gs.fit(X_train, y_train)\n",
    "\n",
    "print(\"Best Params:\", gs.best_params_)\n",
    "\n",
    "best_model = gs.best_estimator_\n",
    "y_val_pred_rf = best_model.predict(X_val)\n",
    "\n",
    "print(\"\\n=== RANDOM FOREST (Best) ===\")\n",
    "print(\"Precision:\", precision_score(y_val, y_val_pred_rf, average=\"macro\"))\n",
    "print(\"Recall   :\", recall_score(y_val, y_val_pred_rf, average=\"macro\"))\n",
    "print(\"F1       :\", f1_score(y_val, y_val_pred_rf, average=\"macro\"))\n",
    "print(classification_report(y_val, y_val_pred_rf, digits=3))\n"
   ]
  },
  {
   "cell_type": "code",
   "execution_count": 4,
   "id": "d5550153-b1c4-4e0e-b930-c6cf2c989885",
   "metadata": {},
   "outputs": [
    {
     "name": "stdout",
     "output_type": "stream",
     "text": [
      "\n",
      "=== EVALUASI TEST SET ===\n",
      "Precision: 1.0\n",
      "Recall   : 1.0\n",
      "F1       : 1.0\n",
      "              precision    recall  f1-score   support\n",
      "\n",
      "           0      1.000     1.000     1.000         3\n",
      "           1      1.000     1.000     1.000         3\n",
      "\n",
      "    accuracy                          1.000         6\n",
      "   macro avg      1.000     1.000     1.000         6\n",
      "weighted avg      1.000     1.000     1.000         6\n",
      "\n"
     ]
    },
    {
     "data": {
      "image/png": "[encoded data removed]",
      "text/plain": [
       "<Figure size 500x400 with 2 Axes>"
      ]
     },
     "metadata": {},
     "output_type": "display_data"
    },
    {
     "name": "stdout",
     "output_type": "stream",
     "text": [
      "ROC-AUC: 1.0\n"
     ]
    },
    {
     "data": {
      "image/png": "[encoded data removed]",
      "text/plain": [
       "<Figure size 640x480 with 1 Axes>"
      ]
     },
     "metadata": {},
     "output_type": "display_data"
    },
    {
     "data": {
      "image/png": "[encoded data removed]",
      "text/plain": [
       "<Figure size 640x480 with 1 Axes>"
      ]
     },
     "metadata": {},
     "output_type": "display_data"
    }
   ],
   "source": [
    "# === LANGKAH 4: Evaluasi Akhir di Test Set ===\n",
    "final_model = best_model  # gunakan model terbaik hasil tuning\n",
    "y_test_pred = final_model.predict(X_test)\n",
    "\n",
    "print(\"\\n=== EVALUASI TEST SET ===\")\n",
    "print(\"Precision:\", precision_score(y_test, y_test_pred, average=\"macro\"))\n",
    "print(\"Recall   :\", recall_score(y_test, y_test_pred, average=\"macro\"))\n",
    "print(\"F1       :\", f1_score(y_test, y_test_pred, average=\"macro\"))\n",
    "print(classification_report(y_test, y_test_pred, digits=3))\n",
    "\n",
    "# Confusion Matrix\n",
    "cm = confusion_matrix(y_test, y_test_pred)\n",
    "plt.figure(figsize=(5,4))\n",
    "sns.heatmap(cm, annot=True, fmt=\"d\", cmap=\"Blues\", xticklabels=[\"Tidak Lulus\",\"Lulus\"], yticklabels=[\"Tidak Lulus\",\"Lulus\"])\n",
    "plt.title(\"Confusion Matrix (Test Set)\")\n",
    "plt.xlabel(\"Predicted\")\n",
    "plt.ylabel(\"Actual\")\n",
    "plt.show()\n",
    "\n",
    "# ROC & PR Curve\n",
    "if hasattr(final_model.named_steps[\"clf\"], \"predict_proba\"):\n",
    "    y_test_proba = final_model.predict_proba(X_test)[:,1]\n",
    "    print(\"ROC-AUC:\", roc_auc_score(y_test, y_test_proba))\n",
    "\n",
    "    # ROC Curve\n",
    "    fpr, tpr, _ = roc_curve(y_test, y_test_proba)\n",
    "    plt.figure()\n",
    "    plt.plot(fpr, tpr, label=\"ROC Curve\")\n",
    "    plt.plot([0,1],[0,1],\"--\",color=\"gray\")\n",
    "    plt.xlabel(\"False Positive Rate\")\n",
    "    plt.ylabel(\"True Positive Rate\")\n",
    "    plt.title(\"ROC Curve (Test Set)\")\n",
    "    plt.legend()\n",
    "    plt.show()\n",
    "\n",
    "    # Precision-Recall Curve\n",
    "    prec, rec, _ = precision_recall_curve(y_test, y_test_proba)\n",
    "    plt.figure()\n",
    "    plt.plot(rec, prec, label=\"PR Curve\")\n",
    "    plt.xlabel(\"Recall\")\n",
    "    plt.ylabel(\"Precision\")\n",
    "    plt.title(\"Precision-Recall Curve (Test Set)\")\n",
    "    plt.legend()\n",
    "    plt.show()\n"
   ]
  },
  {
   "cell_type": "code",
   "execution_count": 5,
   "id": "d60548c1-1720-47c9-be26-86adcb7d9bb5",
   "metadata": {},
   "outputs": [
    {
     "name": "stdout",
     "output_type": "stream",
     "text": [
      "\n",
      "Top 3 Features:\n",
      "                  Feature  Importance\n",
      "0                num__IPK    0.298078\n",
      "2  num__Waktu_Belajar_Jam    0.278873\n",
      "4        num__IPK_x_Study    0.270011\n"
     ]
    },
    {
     "name": "stderr",
     "output_type": "stream",
     "text": [
      "C:\\Users\\ASUS\\AppData\\Local\\Temp\\ipykernel_13020\\990790131.py:10: FutureWarning: \n",
      "\n",
      "Passing `palette` without assigning `hue` is deprecated and will be removed in v0.14.0. Assign the `y` variable to `hue` and set `legend=False` for the same effect.\n",
      "\n",
      "  sns.barplot(data=feat_imp.head(5), x=\"Importance\", y=\"Feature\", palette=\"viridis\")\n"
     ]
    },
    {
     "data": {
      "image/png": "[encoded data removed]",
      "text/plain": [
       "<Figure size 600x400 with 1 Axes>"
      ]
     },
     "metadata": {},
     "output_type": "display_data"
    }
   ],
   "source": [
    "# === LANGKAH 5: Feature Importance ===\n",
    "importances = final_model.named_steps[\"clf\"].feature_importances_\n",
    "fn = final_model.named_steps[\"pre\"].get_feature_names_out()\n",
    "feat_imp = pd.DataFrame({\"Feature\": fn, \"Importance\": importances}).sort_values(\"Importance\", ascending=False)\n",
    "\n",
    "print(\"\\nTop 3 Features:\")\n",
    "print(feat_imp.head(3))\n",
    "\n",
    "plt.figure(figsize=(6,4))\n",
    "sns.barplot(data=feat_imp.head(5), x=\"Importance\", y=\"Feature\", palette=\"viridis\")\n",
    "plt.title(\"Top Feature Importances\")\n",
    "plt.show()\n"
   ]
  },
  {
   "cell_type": "code",
   "execution_count": 6,
   "id": "b330f639-d587-479d-ae5f-35da8b4179cf",
   "metadata": {},
   "outputs": [
    {
     "name": "stdout",
     "output_type": "stream",
     "text": [
      "Model terbaik disimpan sebagai rf_model.pkl\n"
     ]
    }
   ],
   "source": [
    "# === LANGKAH 6: Simpan Model ===\n",
    "joblib.dump(final_model, \"rf_model.pkl\")\n",
    "print(\"Model terbaik disimpan sebagai rf_model.pkl\")\n"
   ]
  },
  {
   "cell_type": "code",
   "execution_count": null,
   "id": "0b075faf-9025-4645-9083-86cc935846ef",
   "metadata": {},
   "outputs": [],
   "source": []
  }
 ],
 "metadata": {
  "kernelspec": {
   "display_name": "Python 3 (ipykernel)",
   "language": "python",
   "name": "python3"
  },
  "language_info": {
   "codemirror_mode": {
    "name": "ipython",
    "version": 3
   },
   "file_extension": ".py",
   "mimetype": "text/x-python",
   "name": "python",
   "nbconvert_exporter": "python",
   "pygments_lexer": "ipython3",
   "version": "3.10.11"
  }
 },
 "nbformat": 4,
 "nbformat_minor": 5
}
